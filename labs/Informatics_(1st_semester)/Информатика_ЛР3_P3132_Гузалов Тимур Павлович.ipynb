{
 "cells": [
  {
   "cell_type": "markdown",
   "metadata": {},
   "source": [
    "Задание \"Смалики\"\n",
    "\n",
    "435169 % 6 = 1\n",
    "\n",
    "435169 % 4 = 1\n",
    "\n",
    "435169 % 8 = 1\n",
    "\n",
    "Мой смайл: ;<)"
   ]
  },
  {
   "cell_type": "code",
   "execution_count": 245,
   "metadata": {},
   "outputs": [],
   "source": [
    "import re #С самого начала подключим лютейшую базу"
   ]
  },
  {
   "cell_type": "code",
   "execution_count": 246,
   "metadata": {},
   "outputs": [],
   "source": [
    "test1=\"\"\"\n",
    "8-) \\n 88--);;;) ;<)-414;;-(421-03-949710-12=;_)91#;-)40918;<)090)*410&*%191-)148-))\n",
    "\"\"\"\n",
    "test2=\"\"\"\n",
    "Let's add some text to 8-) our test! 9-;<{) ;<) \n",
    "\"\"\"\n",
    "test3=\"\"\"\n",
    "I mean ; <) and some different other stuff lik ;<);<);<)));;<()<; >> tahs@$01#$44/781 rhkl|141\n",
    "\"\"\""
   ]
  },
  {
   "cell_type": "code",
   "execution_count": 247,
   "metadata": {},
   "outputs": [],
   "source": [
    "import random\n",
    "# Для тестов 4 и 5 у меня кончился креатив. \n",
    "# Будем добавлять кучку смайликов в рандомную строку :)\n",
    "def generate_random_string(length, emojis):\n",
    "    result = \"\"\n",
    "    emoji = \";<)\"\n",
    "    for i in range(length):\n",
    "        ranInt = random.randint(0, 54)\n",
    "        chance = random.randint(1,100)\n",
    "        char = \"0123456789abcdefghijklmnopqrstuvwxyz!@#$%^&*()-_=+|/?.,\"[ranInt]\n",
    "        result += char\n",
    "        if(chance <= 15 and emojis):\n",
    "            emojis -=1\n",
    "            result += emoji\n",
    "\n",
    "    return result + (emoji*emojis) \n",
    "# Для простоты проверки сделаем количество эмодзи \n",
    "# константным просто докидывая в result те, что не попались\n",
    "# Почему? Да потому что хочется +- точно знать сколько внутри смайликов\n",
    "# чтобы тестить. *есть шанс в ~0.000635% спавна смайлика рандомом. :)"
   ]
  },
  {
   "cell_type": "code",
   "execution_count": 248,
   "metadata": {},
   "outputs": [
    {
     "name": "stdout",
     "output_type": "stream",
     "text": [
      "z5#;<)oso?0;<)nh;<)n5;<)v;<)?b-;<)$wf^5$))&0@8;<)#.q800e1*;<)?fwkt_;<)4g.,z;<))k-i|9l^^x&!s4;<)_l&;<)3?x;<)bu1lo4;<)r%g1nw#tkx9n*;<)850m_(&;<)4d^*9;<)ttx20*q/_yr|?@lmnjf#2k((;<)$/zig*2/3r=(x_70)k9m;<)e&r;<)w3p1y$w;<)3+3v&dii(d^jc*9,.-;<)r7nlv);<)o(nb;<)8t;<),dn#;<)!aworkvv.0h/l0;<)v3/n;<)!;<)di2?n;<)2$e*g;<)($;<)8x;<)xf3;<)t;<)5?|+;<)7uw;<)syn_c$ec);<)g;<)sf;<)&u4+h;<)/e7uo;<),5ujsm;<)iy3*)*.69%b3^z;<)q_z0a;<)o+?ioyfuruy$m(abql)e(/l.q,=b;<)e&wsz*);<)(m6#5|n_ndgs($f59$b-o;<)g%my#=-1dg5$;<)/!-g6b7-y;<)30n$s(%,ajh?@&h*k7^_r(5|v?h(=+s*0^@6%-e|4y_=$\n",
      "n;<))74?;<)u;<)7;<)gws_g^#;<)rx;<)+;<)n^,s,!m?m7nt@(khfg;<)w;<)1seoai$;<)vh%e*;<)v;<))8-bqp;<)88sb;<)po|2=n.hl.v@#ekpl0f44i2?x_wz.8;<)awrg1/s3_c6z-h77;<)4h3;<)0fo;<)tf@0x_h(83_l?.;<)mf4ap5w;<)ox4s;<)nwmshs#;<)3+d_)a|hfa3g;<)jj3&pz##&#$%;<)uom?k0fz&.;<)$4$gx;<)f16;<)w(y52;<)j;<)a@3*e-;<)6s.iv29$ry;<)|0./;<)b^nbby/sg=;<)v#7.x-^uz;<)=;<)a3+3w)v);<))s7vr;<),-w@w;<)++tl%_;<)|)d13i138wxu!|;<)?!&5|!;<)ui;<)($|a$wj;<)-mksi!;<)hjlut_;<)b|xmm^$s%am9=;<)2y|0h,kx;<)+2*yr7|7xt723s0/!k43s|dbb=?3crs5&vlmyc2vd;<)jbw?^/d;<)b;<)7i;<)q2,wrxkhc^4;<)?*d;<)=i;<)ct3d?,;<),yn=;<)=|bx#(q9_;<)f!,=buj7azmg55p5a*3t!r?z;<)u*8;<)_,6uka^h,;<)e,beprp/h*u5a!iv;<).;<)ybm5?@0^=?u;<)#w-!;<)x89y;<)t=u45qyl;<)(|^p0+ho;<)k1wj;<)!?;<)*7d;<)c9e;<)ceqj.u!g39!^2ijhfulmmyiqvw.;<)1;<)xhr;<)/.m;<)0!)z|jsn6w;<)#-,d.b+4r)_;<)-unml!1;<))4c|;<),3n?;<)j*&/;<)%.a*;<)qwzp/a82;<)zs;<)-;<)f@em?=3rujl;<).jot^+9rb2d-#z3+u^2/sk&$s0ln)_&a/x;<)cm0s*q7?a6x;<)9t_;<)wpc4mh8!%dia,y4sl8?t7c%8dg/u;<)kii;<)om;<)(9er8tu%k^-feh!_nx;<)4i;<)9wf|.@5u19;<)_(2o+27;<)20&;<)5;<)fe8o57;<)4xud(q9_#nw5$#f@5;<)v7%9ebkmo(80j#_&n8vs6e$,e?,_/l/_1xxhu#-m^,,f|)v&1q,f\n"
     ]
    }
   ],
   "source": [
    "test4 = generate_random_string(400, 50)\n",
    "test5 = generate_random_string(800,100)\n",
    "print(test4)\n",
    "print(test5)"
   ]
  },
  {
   "cell_type": "markdown",
   "metadata": {},
   "source": [
    "Ну, попробуем найти своими лапками:"
   ]
  },
  {
   "cell_type": "code",
   "execution_count": 249,
   "metadata": {},
   "outputs": [],
   "source": [
    "#тру пацаны же считают .count() читом? (Энивей будем сверяться с ним)\n",
    "#Париться с оптимизацией вроде как не нужно, искать будем по жирному.\n",
    "def find_amount(subStr, str):\n",
    "    insertions= 0\n",
    "    for i in range(len(str)):\n",
    "        if(str[i] == subStr[0]):\n",
    "            for j in range(len(subStr)):\n",
    "                if(str[i+j]!= subStr[j]):\n",
    "                    break\n",
    "                if (j == len(subStr)-1):\n",
    "                    insertions += 1\n",
    "    return insertions\n",
    "#Ну тут я буквально ищу совпадает ли первая буква а дальше сверяюсь по буковам"
   ]
  },
  {
   "cell_type": "code",
   "execution_count": 250,
   "metadata": {},
   "outputs": [
    {
     "name": "stdout",
     "output_type": "stream",
     "text": [
      "Test1: \n",
      "mine: 2 \n",
      ".count(): 2 \n",
      "RegExp: 2 \n",
      "\n",
      "Test2: \n",
      "mine: 1 \n",
      ".count(): 1 \n",
      "RegExp: 1 \n",
      "\n",
      "Test3: \n",
      "mine: 3 \n",
      ".count(): 3 \n",
      "RegExp: 3 \n",
      "\n",
      "Test4: \n",
      "mine: 50 \n",
      ".count(): 50 \n",
      "RegExp: 50 \n",
      "\n",
      "Test5: \n",
      "mine: 100 \n",
      ".count(): 100 \n",
      "RegExp: 100 \n",
      "\n"
     ]
    }
   ],
   "source": [
    "regexEmoji = re.compile(r\";<\\)\")\n",
    "print(\"Test1: \\nmine:\", find_amount(\";<)\", test1), \"\\n.count():\", test1.count(\";<)\"), \"\\nRegExp:\", len(re.findall(regexEmoji, test1)), \"\\n\") #should be 2\n",
    "print(\"Test2: \\nmine:\", find_amount(\";<)\", test2), \"\\n.count():\", test2.count(\";<)\"), \"\\nRegExp:\", len(re.findall(regexEmoji, test2)), \"\\n\") #should be 1\n",
    "print(\"Test3: \\nmine:\", find_amount(\";<)\", test3), \"\\n.count():\", test3.count(\";<)\"), \"\\nRegExp:\", len(re.findall(regexEmoji, test3)), \"\\n\") #should be 3\n",
    "print(\"Test4: \\nmine:\", find_amount(\";<)\", test4), \"\\n.count():\", test4.count(\";<)\"), \"\\nRegExp:\", len(re.findall(regexEmoji, test4)), \"\\n\") #should be 50\n",
    "print(\"Test5: \\nmine:\", find_amount(\";<)\", test5), \"\\n.count():\", test5.count(\";<)\"), \"\\nRegExp:\", len(re.findall(regexEmoji, test5)), \"\\n\") #should be 100"
   ]
  },
  {
   "cell_type": "markdown",
   "metadata": {},
   "source": [
    "Необязательное задание на \"4\" или \"5\": (+18 баллов)\n",
    "\n",
    "Напомним, что 435169 % 6 = 1\n",
    "\n",
    "Мне нужно определять повтор слова и исправлять его."
   ]
  },
  {
   "cell_type": "code",
   "execution_count": 251,
   "metadata": {},
   "outputs": [],
   "source": [
    "# Подготовим тесты втупую - заставим нейронку написать краткие тексты\n",
    "# После этого удвоим рандомные слова.\n",
    "test1 = \"Я только только что вернулся из невероятного путешествия путешествия. Пляж был просто просто пот потрясающий и люди были очень очень гостеприимны гостеприимны.\"\n",
    "test2 = \"Мне очень очень нравится этот новый кофейный кофейный магазин в центре города. Кофе с с молоком мол молоком просто нечто!\"\n",
    "test3 = \"Today Today I visited the modern art museum museum for the first first time and was completely completely thrilled with some of the exhibits.\"\n",
    "test4 = \"I just just got back from an incredible journey journey. The beach was simply simply breathtaking and people people were very hospitable.\"\n",
    "test5 = \"I I really like this new new coffee shop in downtown city. Their Their cappuccino is just just something!\"\n",
    "# Да, нейроночка зачем-то написала переводы. Но нам так важно?\n"
   ]
  },
  {
   "cell_type": "code",
   "execution_count": 252,
   "metadata": {},
   "outputs": [],
   "source": [
    "def kill_pairs(text):\n",
    "    words = text.split()\n",
    "    i = 0\n",
    "    while i < len(words) - 1:\n",
    "        if words[i] == words[i+1].replace('.', '').replace(',', '').replace(';', '').replace('!', '').replace('?', '').replace(':', ''):\n",
    "            words.pop(i)\n",
    "        else:\n",
    "            i += 1\n",
    "#Собстна говоря тоже тупое но рабочее решение - делим ввод на слова и проверям на равенство.\n",
    "    return \" \".join(words)"
   ]
  },
  {
   "cell_type": "code",
   "execution_count": 253,
   "metadata": {},
   "outputs": [],
   "source": [
    "# Теперь решение регулярками\n",
    "def regex_kill_pairs(text):\n",
    "    expression = re.compile(r\"(\\b[a-zA-ZА-Яа-я0-9]+\\b)\\s+\\b\\1\\b\")\n",
    "    result = re.sub(expression, r\"\\1\", text)\n",
    "    return result"
   ]
  },
  {
   "cell_type": "code",
   "execution_count": 254,
   "metadata": {},
   "outputs": [
    {
     "name": "stdout",
     "output_type": "stream",
     "text": [
      "True Я только что вернулся из невероятного путешествия. Пляж был просто пот потрясающий и люди были очень гостеприимны.\n",
      "True Мне очень нравится этот новый кофейный магазин в центре города. Кофе с молоком мол молоком просто нечто!\n",
      "True Today I visited the modern art museum for the first time and was completely thrilled with some of the exhibits.\n",
      "True I just got back from an incredible journey. The beach was simply breathtaking and people were very hospitable.\n",
      "True I really like this new coffee shop in downtown city. Their cappuccino is just something!\n"
     ]
    }
   ],
   "source": [
    "print(regex_kill_pairs(test1) == kill_pairs(test1), regex_kill_pairs(test1))\n",
    "print(regex_kill_pairs(test2) == kill_pairs(test2), regex_kill_pairs(test2))\n",
    "print(regex_kill_pairs(test3) == kill_pairs(test3), regex_kill_pairs(test3))\n",
    "print(regex_kill_pairs(test4) == kill_pairs(test4), regex_kill_pairs(test4))\n",
    "print(regex_kill_pairs(test5) == kill_pairs(test5), regex_kill_pairs(test5))\n"
   ]
  },
  {
   "cell_type": "markdown",
   "metadata": {},
   "source": [
    "Осталось немного - последнее необязательное задание за +22 балла.\n",
    "\n",
    "Напоминаем себе, что 435169 % 8 = 1. Всё ещё. И это хорошо.\n",
    "\n",
    "~~Сама задача если честно кринж, зато теперь сразу в регулярках~~"
   ]
  },
  {
   "cell_type": "code",
   "execution_count": 255,
   "metadata": {},
   "outputs": [],
   "source": [
    "test1 = \"Классное слово – обороноспособность, которое должно идти после слов: трава и молоко.\"\n",
    "test2 = \"Мой друг работает в офисе, где есть много зеленых растений.\"\n",
    "test3 = \"Она всегда поддерживает своих друзей и семью без исключения. А ещё у неё есть ООП\"\n",
    "test4 = \"Каждый год мы вместе отправляемся на морское путешествие летом. Там мы как рыбы.\"\n",
    "test5 = \"There is no time to explain! Get into the vehicle, do not waste time.\"\n"
   ]
  },
  {
   "cell_type": "code",
   "execution_count": 256,
   "metadata": {},
   "outputs": [],
   "source": [
    "def find_all_sets(text):\n",
    "    result = []\n",
    "    vowelsrus = \"ауиоэыяюеёАУИОЭЫЯЮЕЁ\"\n",
    "    vowelseng = \"aeiouAEIOU\"\n",
    "    for i in vowelsrus:\n",
    "        expression = r\"\\b([^\\s\"+vowelsrus.replace(i,'')+r\"]*[\"+ i +r\"]+[^\\s\"+vowelsrus.replace(i,'')+r\"]*){1,}\\b\"\n",
    "        matches = re.findall(expression,text)\n",
    "        if matches:\n",
    "            result += matches\n",
    "    for i in vowelseng:\n",
    "        expression = r\"\\b([^\\s\"+vowelseng.replace(i,'')+r\"]*[\"+ i +r\"]+[^\\s\"+vowelseng.replace(i,'')+r\"]*){1,}\\b\"\n",
    "        matches = re.findall(expression,text)\n",
    "        if matches:\n",
    "            result += matches\n",
    "    return result"
   ]
  },
  {
   "cell_type": "code",
   "execution_count": 257,
   "metadata": {},
   "outputs": [
    {
     "name": "stdout",
     "output_type": "stream",
     "text": [
      "test1:\n",
      "и\n",
      "идти\n",
      "слов\n",
      "слово\n",
      "трава\n",
      "должно\n",
      "молоко\n",
      "обороноспособность\n",
      "\n",
      "test2:\n",
      "Мой\n",
      "где\n",
      "друг\n",
      "есть\n",
      "много\n",
      "\n",
      "test3:\n",
      "А\n",
      "и\n",
      "у\n",
      "ООП\n",
      "без\n",
      "есть\n",
      "\n",
      "test4:\n",
      "мы\n",
      "мы\n",
      "на\n",
      "Там\n",
      "год\n",
      "как\n",
      "рыбы\n",
      "вместе\n",
      "\n",
      "test5:\n",
      "do\n",
      "is\n",
      "no\n",
      "to\n",
      "Get\n",
      "not\n",
      "the\n",
      "There\n"
     ]
    }
   ],
   "source": [
    "test1Answ = sorted(sorted(find_all_sets(test1)), key=len)\n",
    "test2Answ = sorted(sorted(find_all_sets(test2)), key=len)\n",
    "test3Answ = sorted(sorted(find_all_sets(test3)), key=len)\n",
    "test4Answ = sorted(sorted(find_all_sets(test4)), key=len)\n",
    "test5Answ = sorted(sorted(find_all_sets(test5)), key=len)\n",
    "print(\"test1:\")\n",
    "for i in test1Answ:\n",
    "    print(i)\n",
    "print(\"\\ntest2:\")\n",
    "for i in test2Answ:\n",
    "    print(i)\n",
    "print(\"\\ntest3:\")\n",
    "for i in test3Answ:\n",
    "    print(i)\n",
    "print(\"\\ntest4:\")\n",
    "for i in test4Answ:\n",
    "    print(i)\n",
    "print(\"\\ntest5:\")\n",
    "for i in test5Answ:\n",
    "    print(i)"
   ]
  },
  {
   "cell_type": "markdown",
   "metadata": {},
   "source": [
    "Кажется на этом всё. Надеюсь по крайней мере... "
   ]
  }
 ],
 "metadata": {
  "kernelspec": {
   "display_name": "Python 3",
   "language": "python",
   "name": "python3"
  },
  "language_info": {
   "codemirror_mode": {
    "name": "ipython",
    "version": 3
   },
   "file_extension": ".py",
   "mimetype": "text/x-python",
   "name": "python",
   "nbconvert_exporter": "python",
   "pygments_lexer": "ipython3",
   "version": "3.12.3"
  }
 },
 "nbformat": 4,
 "nbformat_minor": 2
}
